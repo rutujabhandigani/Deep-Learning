{
 "cells": [
  {
   "cell_type": "code",
   "execution_count": 1,
   "metadata": {
    "colab": {
     "base_uri": "https://localhost:8080/"
    },
    "id": "k76K-w-t8EGT",
    "outputId": "8492850e-e326-4717-a1a9-9f49e5fe2689"
   },
   "outputs": [
    {
     "name": "stdout",
     "output_type": "stream",
     "text": [
      "Downloading data from https://storage.googleapis.com/tensorflow/tf-keras-datasets/mnist.npz\n",
      "11493376/11490434 [==============================] - 0s 0us/step\n"
     ]
    }
   ],
   "source": [
    "from tensorflow.keras.datasets import mnist\n",
    "(x_train, y_train), (x_test, y_test) = mnist.load_data() "
   ]
  },
  {
   "cell_type": "code",
   "execution_count": 6,
   "metadata": {
    "colab": {
     "base_uri": "https://localhost:8080/"
    },
    "id": "WPHWXJ3iAXNb",
    "outputId": "60fcb56b-0380-46fd-8d9d-a734bdfdbd9b"
   },
   "outputs": [
    {
     "data": {
      "text/plain": [
       "(28, 28, 1)"
      ]
     },
     "execution_count": 6,
     "metadata": {
      "tags": []
     },
     "output_type": "execute_result"
    }
   ],
   "source": [
    "x_train[10].shape"
   ]
  },
  {
   "cell_type": "code",
   "execution_count": 4,
   "metadata": {
    "colab": {
     "base_uri": "https://localhost:8080/",
     "height": 282
    },
    "id": "uMHubBd2A55y",
    "outputId": "3b795d7a-4b61-46f3-e2b1-d8a433e07a37"
   },
   "outputs": [
    {
     "data": {
      "text/plain": [
       "<matplotlib.image.AxesImage at 0x7f9cd77df410>"
      ]
     },
     "execution_count": 4,
     "metadata": {
      "tags": []
     },
     "output_type": "execute_result"
    },
    {
     "data": {
      "image/png": "[encoded data removed]",
      "text/plain": [
       "<Figure size 432x288 with 1 Axes>"
      ]
     },
     "metadata": {
      "needs_background": "light",
      "tags": []
     },
     "output_type": "display_data"
    }
   ],
   "source": [
    "import matplotlib.pyplot as plt\n",
    "plt.imshow(x_train[10])"
   ]
  },
  {
   "cell_type": "code",
   "execution_count": 5,
   "metadata": {
    "id": "9mjZomIBBQDO"
   },
   "outputs": [],
   "source": [
    "#reshaping training and testing images\n",
    "x_train = x_train.reshape(60000,28,28,1)\n",
    "x_test = x_test.reshape(10000,28,28,1)"
   ]
  },
  {
   "cell_type": "code",
   "execution_count": 7,
   "metadata": {
    "colab": {
     "base_uri": "https://localhost:8080/"
    },
    "id": "hMQuKH5rBueb",
    "outputId": "9e43b808-aef5-4fac-db5d-2fbfdb49466e"
   },
   "outputs": [
    {
     "data": {
      "text/plain": [
       "array([0., 0., 0., 1., 0., 0., 0., 0., 0., 0.], dtype=float32)"
      ]
     },
     "execution_count": 7,
     "metadata": {
      "tags": []
     },
     "output_type": "execute_result"
    }
   ],
   "source": [
    "#encoding the categorical data\n",
    "from tensorflow.keras.utils import to_categorical\n",
    "#one-hot encoding target column\n",
    "y_train = to_categorical(y_train)\n",
    "y_test = to_categorical(y_test)\n",
    "y_train[10]"
   ]
  },
  {
   "cell_type": "code",
   "execution_count": 8,
   "metadata": {
    "id": "1tZ4CAlWCeI5"
   },
   "outputs": [],
   "source": [
    "#building the model\n",
    "from tensorflow.keras.models import Sequential\n",
    "from tensorflow.keras.layers import Dense, Conv2D, Flatten\n",
    "\n",
    "#create model\n",
    "model = Sequential()\n",
    "\n",
    "#add model layers\n",
    "model.add(Conv2D(32, (3,3), activation= 'relu', input_shape=(28,28,1))) #1st layer\n",
    "model.add(Conv2D(64, (3,3), activation= 'relu'))\n",
    "model.add(Flatten())\n",
    "model.add(Dense(10, activation='softmax'))"
   ]
  },
  {
   "cell_type": "code",
   "execution_count": 11,
   "metadata": {
    "id": "fZvcJzemEE3J"
   },
   "outputs": [],
   "source": [
    "#compile the model\n",
    "model.compile(optimizer= 'adam', loss= 'categorical_crossentropy', metrics= ['accuracy'])"
   ]
  },
  {
   "cell_type": "code",
   "execution_count": 12,
   "metadata": {
    "colab": {
     "base_uri": "https://localhost:8080/"
    },
    "id": "D_F541ovE3m9",
    "outputId": "d4031017-a933-4324-ffb4-28d5581cc9c0"
   },
   "outputs": [
    {
     "name": "stdout",
     "output_type": "stream",
     "text": [
      "Epoch 1/3\n",
      "1875/1875 [==============================] - 140s 74ms/step - loss: 1.7401 - accuracy: 0.9104 - val_loss: 0.1080 - val_accuracy: 0.9656\n",
      "Epoch 2/3\n",
      "1875/1875 [==============================] - 140s 74ms/step - loss: 0.0768 - accuracy: 0.9771 - val_loss: 0.0911 - val_accuracy: 0.9725\n",
      "Epoch 3/3\n",
      "1875/1875 [==============================] - 140s 74ms/step - loss: 0.0385 - accuracy: 0.9875 - val_loss: 0.1109 - val_accuracy: 0.9713\n"
     ]
    },
    {
     "data": {
      "text/plain": [
       "<tensorflow.python.keras.callbacks.History at 0x7f9cd3069910>"
      ]
     },
     "execution_count": 12,
     "metadata": {
      "tags": []
     },
     "output_type": "execute_result"
    }
   ],
   "source": [
    "#train the model\n",
    "model.fit(x_train, y_train, validation_data= (x_test, y_test), epochs= 3)"
   ]
  },
  {
   "cell_type": "code",
   "execution_count": 13,
   "metadata": {
    "colab": {
     "base_uri": "https://localhost:8080/"
    },
    "id": "wa-ZZb9yGD4C",
    "outputId": "aee27293-78fd-4503-c6e7-006c3726aeb9"
   },
   "outputs": [
    {
     "data": {
      "text/plain": [
       "array([[1.4176013e-11, 1.9458865e-15, 3.9139827e-10, 5.6112475e-07,\n",
       "        7.9441577e-15, 1.4541939e-12, 1.4514041e-15, 9.9999940e-01,\n",
       "        4.4442094e-10, 1.4715622e-09],\n",
       "       [7.8077482e-09, 1.0850298e-06, 9.9999118e-01, 1.3313080e-08,\n",
       "        3.0562490e-11, 1.6971173e-12, 7.4244704e-06, 5.6508162e-13,\n",
       "        4.0260244e-07, 4.7131691e-15],\n",
       "       [1.4602137e-05, 9.8045200e-01, 7.6506886e-04, 2.9106718e-07,\n",
       "        1.7393144e-02, 2.0845197e-04, 1.3600950e-06, 3.6515110e-07,\n",
       "        1.1592488e-03, 5.4276366e-06],\n",
       "       [9.9999988e-01, 2.3116017e-14, 5.8992133e-10, 6.3168533e-12,\n",
       "        8.6383557e-14, 1.2550841e-09, 6.2691790e-08, 5.9520511e-10,\n",
       "        5.2604420e-08, 4.2852397e-09]], dtype=float32)"
      ]
     },
     "execution_count": 13,
     "metadata": {
      "tags": []
     },
     "output_type": "execute_result"
    }
   ],
   "source": [
    "# test the model\n",
    "model.predict(x_test[:4])"
   ]
  },
  {
   "cell_type": "code",
   "execution_count": 14,
   "metadata": {
    "colab": {
     "base_uri": "https://localhost:8080/"
    },
    "id": "jm4056wZGPqY",
    "outputId": "9e88a513-30a0-4962-f3cb-7347108e9a68"
   },
   "outputs": [
    {
     "data": {
      "text/plain": [
       "array([[0., 0., 0., 0., 0., 0., 0., 1., 0., 0.],\n",
       "       [0., 0., 1., 0., 0., 0., 0., 0., 0., 0.],\n",
       "       [0., 1., 0., 0., 0., 0., 0., 0., 0., 0.],\n",
       "       [1., 0., 0., 0., 0., 0., 0., 0., 0., 0.]], dtype=float32)"
      ]
     },
     "execution_count": 14,
     "metadata": {
      "tags": []
     },
     "output_type": "execute_result"
    }
   ],
   "source": [
    "y_test[:4]"
   ]
  }
 ],
 "metadata": {
  "colab": {
   "name": "lab3_CNN.ipynb",
   "provenance": []
  },
  "kernelspec": {
   "display_name": "Python 3",
   "language": "python",
   "name": "python3"
  },
  "language_info": {
   "codemirror_mode": {
    "name": "ipython",
    "version": 3
   },
   "file_extension": ".py",
   "mimetype": "text/x-python",
   "name": "python",
   "nbconvert_exporter": "python",
   "pygments_lexer": "ipython3",
   "version": "3.7.3"
  }
 },
 "nbformat": 4,
 "nbformat_minor": 1
}
